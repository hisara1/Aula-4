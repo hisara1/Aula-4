{
 "cells": [
  {
   "cell_type": "code",
   "execution_count": 1,
   "metadata": {},
   "outputs": [],
   "source": [
    "# Atividade 4 Israel A/valor aprox"
   ]
  },
  {
   "cell_type": "code",
   "execution_count": 2,
   "metadata": {},
   "outputs": [
    {
     "name": "stdout",
     "output_type": "stream",
     "text": [
      "0.0047328316531780965\n"
     ]
    }
   ],
   "source": [
    "print((0.1/2112.9)*100)"
   ]
  },
  {
   "cell_type": "code",
   "execution_count": 3,
   "metadata": {},
   "outputs": [
    {
     "data": {
      "text/plain": [
       "<Figure size 640x480 with 1 Axes>"
      ]
     },
     "metadata": {},
     "output_type": "display_data"
    }
   ],
   "source": [
    "import matplotlib.pyplot as plt\n",
    "import numpy as np\n",
    "\n",
    "def funcao(t):\n",
    "    return 10**(1-t)\n",
    "\n",
    "def fun(x):\n",
    "        return 0.5*10**(1-x)\n",
    "\n",
    "n = np.linspace(2,12, num=1000)\n",
    "b = np.linspace(2,12, num=1000)\n",
    "plt.plot(n, funcao(n))\n",
    "plt.plot(b, fun(b))\n",
    "plt.show()"
   ]
  },
  {
   "cell_type": "code",
   "execution_count": 4,
   "metadata": {},
   "outputs": [
    {
     "data": {
      "image/png": "[encoded data removed]",
      "text/plain": [
       "<Figure size 432x288 with 1 Axes>"
      ]
     },
     "metadata": {},
     "output_type": "display_data"
    }
   ],
   "source": [
    "import matplotlib.pyplot as plt\n",
    "import numpy as np\n",
    "\n",
    "def funcao(t):\n",
    "    return 10**(1-t)\n",
    "\n",
    "def fun(x):\n",
    "        return 0.5*10**(1-x)\n",
    "\n",
    "n = np.linspace(2,12, num=1000)\n",
    "b = np.linspace(2,12, num=1000)\n",
    "plt.plot(n, funcao(n))\n",
    "plt.plot(b, fun(b))\n",
    "plt.show()"
   ]
  },
  {
   "cell_type": "code",
   "execution_count": 5,
   "metadata": {},
   "outputs": [],
   "source": [
    "\n",
    "def absoluto(errox,erroy):\n",
    "    return errox + erroy\n",
    "\n",
    "def relativo(x,y):\n",
    "    erx= x/x+y\n",
    "    ery = y/x+y\n",
    "    return erx + ery"
   ]
  },
  {
   "cell_type": "code",
   "execution_count": null,
   "metadata": {},
   "outputs": [],
   "source": []
  }
 ],
 "metadata": {
  "kernelspec": {
   "display_name": "Python 3",
   "language": "python",
   "name": "python3"
  },
  "language_info": {
   "codemirror_mode": {
    "name": "ipython",
    "version": 3
   },
   "file_extension": ".py",
   "mimetype": "text/x-python",
   "name": "python",
   "nbconvert_exporter": "python",
   "pygments_lexer": "ipython3",
   "version": "3.6.5"
  }
 },
 "nbformat": 4,
 "nbformat_minor": 2
}
